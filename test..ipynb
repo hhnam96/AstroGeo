{
 "cells": [
  {
   "cell_type": "code",
   "execution_count": 22,
   "metadata": {},
   "outputs": [],
   "source": [
    "import numpy as np\n",
    "# n = 100\n",
    "# n_zeros = [1]*(n+1)\n",
    "# n_zeros[0] = 0\n",
    "# for i in range(1,n+1):\n",
    "#     zero_i = (i)//10 if (i)%10==0 else 0\n",
    "#     n_zeros[i] = n_zeros[i-1] + zero_i\n",
    "# # print(n_zeros[-1])\n"
   ]
  },
  {
   "cell_type": "code",
   "execution_count": 65,
   "metadata": {},
   "outputs": [],
   "source": [
    "def check_mult_5(n):\n",
    "    m = n\n",
    "    fives = 0\n",
    "    while m%5==0 and m:\n",
    "        fives += 1\n",
    "        m = m//5\n",
    "    return fives\n",
    "    \n",
    "def get_trailing_zeros(n):\n",
    "    zeros = 0 \n",
    "    for i in range(n):\n",
    "        zeros += check_mult_5(i)\n",
    "    \n",
    "    \n",
    "def trailingZeroes(n: int) -> int:\n",
    "    power = 5\n",
    "    zeros = 0\n",
    "    while power <= n:\n",
    "        zeros += n//power\n",
    "        power = power*5\n",
    "    return zeros"
   ]
  },
  {
   "cell_type": "code",
   "execution_count": 74,
   "metadata": {},
   "outputs": [],
   "source": [
    "get_trailing_zeros(100)"
   ]
  },
  {
   "cell_type": "code",
   "execution_count": 81,
   "metadata": {},
   "outputs": [
    {
     "data": {
      "text/plain": [
       "{(1, 2): 2, (1, 3): 3}"
      ]
     },
     "execution_count": 81,
     "metadata": {},
     "output_type": "execute_result"
    }
   ],
   "source": [
    "a = {(1,2) : 2}\n",
    "a[(1,3)] = 3\n",
    "a"
   ]
  },
  {
   "cell_type": "code",
   "execution_count": 79,
   "metadata": {},
   "outputs": [
    {
     "data": {
      "text/plain": [
       "True"
      ]
     },
     "execution_count": 79,
     "metadata": {},
     "output_type": "execute_result"
    }
   ],
   "source": [
    "(1,2) in a  "
   ]
  }
 ],
 "metadata": {
  "kernelspec": {
   "display_name": "Python 3",
   "language": "python",
   "name": "python3"
  },
  "language_info": {
   "codemirror_mode": {
    "name": "ipython",
    "version": 3
   },
   "file_extension": ".py",
   "mimetype": "text/x-python",
   "name": "python",
   "nbconvert_exporter": "python",
   "pygments_lexer": "ipython3",
   "version": "3.9.7"
  },
  "orig_nbformat": 4,
  "vscode": {
   "interpreter": {
    "hash": "ee74a4c445573b5544eb9a57685a19970d99022b23d72f4ab4ed1356cd2d1203"
   }
  }
 },
 "nbformat": 4,
 "nbformat_minor": 2
}
